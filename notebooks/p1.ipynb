{
 "cells": [
  {
   "cell_type": "markdown",
   "id": "9eaa4c4a",
   "metadata": {},
   "source": [
    "Mit dem Python Modul \"Turtle\" kannst du ebenfalls einen Gegenstand bewegen. Hier findest du ein paar Befehle dazu:\n",
    "\n",
    "[forward](https://docs.python.org/3.3/library/turtle.html?highlight=turtle#turtle.forward)<br />\n",
    "[backward](https://docs.python.org/3.3/library/turtle.html?highlight=turtle#turtle.backward)<br />\n",
    "[right](https://docs.python.org/3.3/library/turtle.html?highlight=turtle#turtle.right)<br />\n",
    "[left](https://docs.python.org/3.3/library/turtle.html?highlight=turtle#turtle.left)<br />\n",
    "[goto](https://docs.python.org/3.3/library/turtle.html?highlight=turtle#turtle.goto)<br />\n",
    "[setx](https://docs.python.org/3.3/library/turtle.html?highlight=turtle#turtle.setx)<br />\n",
    "[sety](https://docs.python.org/3.3/library/turtle.html?highlight=turtle#turtle.sety)<br />\n",
    "[speed](https://docs.python.org/3.3/library/turtle.html?highlight=turtle#turtle.speed)<br />\n",
    "\n",
    "Weitere schwerere Beispiele findest du [hier](https://michael0x2a.com/blog/turtle-examples)."
   ]
  },
  {
   "cell_type": "code",
   "execution_count": 1,
   "id": "ab2140dc",
   "metadata": {},
   "outputs": [],
   "source": [
    "import turtle as cat\n",
    "from PIL import Image\n",
    "import os\n",
    "    # create virtual display with size 1600x1200 and 16 bit color. Color can be changed to 24 or 8\n",
    "try:\n",
    "    os.system('Xvfb :1 -screen 0 800x600x16  &')\n",
    "    os.environ['DISPLAY']=':1.0'\n",
    "except: pass\n",
    "\n",
    "def save_as_png(canvas,fileName):\n",
    "    # save postscipt image \n",
    "    canvas.postscript(file = fileName + '.eps') \n",
    "    # use PIL to convert to PNG \n",
    "    img = Image.open(fileName + '.eps') \n",
    "    img.save(fileName + '.png', 'png')\n",
    "\n",
    "\n",
    "cat.register_shape('scratchcat.gif')\n",
    "cat.shape('scratchcat.gif')\n",
    "cat.speed('slowest')"
   ]
  },
  {
   "cell_type": "markdown",
   "id": "89368734",
   "metadata": {},
   "source": [
    "Löse Aufgabe 1 und passe den Code an:"
   ]
  },
  {
   "cell_type": "code",
   "execution_count": 2,
   "id": "03a8466c",
   "metadata": {},
   "outputs": [],
   "source": [
    "cat.forward(50)\n",
    "cat.right(30)\n",
    "\n",
    "cat.forward(50)\n",
    "cat.right(90)\n",
    "\n",
    "cat.forward(50)\n",
    "cat.right(90)\n",
    "\n",
    "cat.forward(50)\n",
    "cat.right(90)\n",
    "\n"
   ]
  },
  {
   "cell_type": "code",
   "execution_count": 3,
   "id": "5f08d382",
   "metadata": {},
   "outputs": [],
   "source": [
    "save_as_png(cat.getscreen().getcanvas(),'cat')"
   ]
  },
  {
   "cell_type": "markdown",
   "id": "f3e2936d",
   "metadata": {},
   "source": [
    "![alt text](cat.png \"Title\")"
   ]
  },
  {
   "cell_type": "code",
   "execution_count": null,
   "id": "dd67adc2",
   "metadata": {},
   "outputs": [],
   "source": []
  }
 ],
 "metadata": {
  "kernelspec": {
   "display_name": "Python 3 (ipykernel)",
   "language": "python",
   "name": "python3"
  },
  "language_info": {
   "codemirror_mode": {
    "name": "ipython",
    "version": 3
   },
   "file_extension": ".py",
   "mimetype": "text/x-python",
   "name": "python",
   "nbconvert_exporter": "python",
   "pygments_lexer": "ipython3",
   "version": "3.8.13"
  }
 },
 "nbformat": 4,
 "nbformat_minor": 5
}
