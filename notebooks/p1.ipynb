{
 "cells": [
  {
   "cell_type": "markdown",
   "id": "4e195dd4-ee0d-41d6-b73d-7cef7c34098e",
   "metadata": {},
   "source": [
    "Mit dem Python Modul \"Turtle\" kannst du eine Schildkröte bewegen. Hier findest du ein paar Befehle dazu:\n",
    "\n",
    "[forward](https://docs.python.org/3.3/library/turtle.html?highlight=turtle#turtle.forward)<br />\n",
    "[backward](https://docs.python.org/3.3/library/turtle.html?highlight=turtle#turtle.backward)<br />\n",
    "[right](https://docs.python.org/3.3/library/turtle.html?highlight=turtle#turtle.right)<br />\n",
    "[left](https://docs.python.org/3.3/library/turtle.html?highlight=turtle#turtle.left)<br />\n",
    "[setheading](https://docs.python.org/3.3/library/turtle.html?highlight=turtle#turtle.setheading)<br />\n",
    "[goto](https://docs.python.org/3.3/library/turtle.html?highlight=turtle#turtle.goto)<br />\n",
    "[setx](https://docs.python.org/3.3/library/turtle.html?highlight=turtle#turtle.setx)<br />\n",
    "[sety](https://docs.python.org/3.3/library/turtle.html?highlight=turtle#turtle.sety)<br />\n",
    "[speed](https://docs.python.org/3.3/library/turtle.html?highlight=turtle#turtle.speed)<br />\n",
    "[penup](https://docs.python.org/3.3/library/turtle.html?highlight=turtle#turtle.penup)<br />\n",
    "[pendown](https://docs.python.org/3.3/library/turtle.html?highlight=turtle#turtle.pendown)<br />\n",
    "\n",
    "[Hier](https://www.cse.msu.edu/~ldillon/cse-ctl/Spring2015/Meeting07/turtleCheatSheet.pdf) findet sich noch eine Befehlsübersicht auf Englisch."
   ]
  },
  {
   "cell_type": "code",
   "execution_count": null,
   "id": "c5aebda7-481f-4fa9-983a-ddf9e8c3d992",
   "metadata": {},
   "outputs": [],
   "source": [
    "# Hier werden die Module importiert\n",
    "import ipyturtle3 as turtle\n",
    "from ipyturtle3 import hold_canvas\n",
    "import time\n",
    "\n",
    "# Hier legen wir fest wie der Hintergrund aussieht\n",
    "myCanvas=turtle.Canvas(width=400,height=250)\n",
    "display(myCanvas)\n",
    "myTS=turtle.TurtleScreen(myCanvas)\n",
    "myTS.clear()\n",
    "myTS.bgcolor(\"lightgreen\")\n",
    "\n",
    "# Schildi die Schildkröte wird erschaffen\n",
    "schildi=turtle.Turtle(myTS)\n",
    "schildi.shape(\"turtle\")\n",
    "myTS.delay(200)\n",
    "schildi.speed(100)\n",
    "\n",
    "# Ab hier fangen die Laufanweisungen an\n",
    "schildi.penup()\n",
    "schildi.goto(-100,-50)\n",
    "schildi.setheading(0)\n",
    "schildi.pendown()\n",
    "schildi.forward(200)\n",
    "schildi.left(90)\n",
    "schildi.forward(100)\n",
    "schildi.left(90)\n",
    "schildi.forward(200)\n",
    "schildi.left(90)\n",
    "schildi.forward(100)"
   ]
  },
  {
   "cell_type": "code",
   "execution_count": null,
   "id": "8e3ee120-69c0-478b-8678-3775425fa573",
   "metadata": {},
   "outputs": [],
   "source": []
  }
 ],
 "metadata": {
  "kernelspec": {
   "display_name": "Python 3 (ipykernel)",
   "language": "python",
   "name": "python3"
  },
  "language_info": {
   "codemirror_mode": {
    "name": "ipython",
    "version": 3
   },
   "file_extension": ".py",
   "mimetype": "text/x-python",
   "name": "python",
   "nbconvert_exporter": "python",
   "pygments_lexer": "ipython3",
   "version": "3.8.13"
  }
 },
 "nbformat": 4,
 "nbformat_minor": 5
}
