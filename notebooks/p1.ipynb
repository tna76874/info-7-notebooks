{
 "cells": [
  {
   "cell_type": "code",
   "execution_count": 1,
   "id": "caedebdf",
   "metadata": {},
   "outputs": [],
   "source": [
    "import numpy as np"
   ]
  },
  {
   "cell_type": "markdown",
   "id": "005803f6",
   "metadata": {},
   "source": [
    "Die Variable \"Punkt\" enthält die x und die y-Koordinate:\n",
    "\n",
    "Punkt = [x,y]"
   ]
  },
  {
   "cell_type": "code",
   "execution_count": 2,
   "id": "28003b7e",
   "metadata": {},
   "outputs": [],
   "source": [
    "Punkt = np.array([0,0])"
   ]
  },
  {
   "cell_type": "markdown",
   "id": "575b6cfe",
   "metadata": {},
   "source": [
    "Starte ab hier selber und gehe die Anweisungen aus der Aufgabe nach. Überspringe dabei die \"Drehen\" Anweisung und zeichne nur den Pfad der Katze nach."
   ]
  },
  {
   "cell_type": "code",
   "execution_count": 3,
   "id": "0555178c",
   "metadata": {},
   "outputs": [
    {
     "name": "stdout",
     "output_type": "stream",
     "text": [
      "[0 0]\n"
     ]
    }
   ],
   "source": [
    "print(Punkt)"
   ]
  },
  {
   "cell_type": "code",
   "execution_count": 4,
   "id": "576c9f71",
   "metadata": {},
   "outputs": [],
   "source": [
    "Punkt[0] += 10\n",
    "Punkt[1] += 100"
   ]
  },
  {
   "cell_type": "code",
   "execution_count": 5,
   "id": "0688459b",
   "metadata": {},
   "outputs": [
    {
     "name": "stdout",
     "output_type": "stream",
     "text": [
      "[ 10 100]\n"
     ]
    }
   ],
   "source": [
    "print(Punkt)"
   ]
  },
  {
   "cell_type": "code",
   "execution_count": 6,
   "id": "66b99c2b",
   "metadata": {},
   "outputs": [],
   "source": [
    "Punkt[0] = -30"
   ]
  },
  {
   "cell_type": "code",
   "execution_count": 7,
   "id": "1c092e89",
   "metadata": {},
   "outputs": [
    {
     "name": "stdout",
     "output_type": "stream",
     "text": [
      "[-30 100]\n"
     ]
    }
   ],
   "source": [
    "print(Punkt)"
   ]
  },
  {
   "cell_type": "code",
   "execution_count": null,
   "id": "fe091402",
   "metadata": {},
   "outputs": [],
   "source": []
  }
 ],
 "metadata": {
  "kernelspec": {
   "display_name": "Python 3 (ipykernel)",
   "language": "python",
   "name": "python3"
  },
  "language_info": {
   "codemirror_mode": {
    "name": "ipython",
    "version": 3
   },
   "file_extension": ".py",
   "mimetype": "text/x-python",
   "name": "python",
   "nbconvert_exporter": "python",
   "pygments_lexer": "ipython3",
   "version": "3.8.15"
  }
 },
 "nbformat": 4,
 "nbformat_minor": 5
}
