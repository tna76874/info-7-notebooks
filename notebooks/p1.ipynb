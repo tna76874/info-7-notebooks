{
 "cells": [
  {
   "cell_type": "markdown",
   "id": "9eaa4c4a",
   "metadata": {},
   "source": [
    "Mit dem Python Modul \"Turtle\" kannst du ebenfalls einen Gegenstand bewegen. Hier findest du ein paar Befehle dazu:\n",
    "\n",
    "[forward](https://docs.python.org/3.3/library/turtle.html?highlight=turtle#turtle.forward)<br />\n",
    "[backward](https://docs.python.org/3.3/library/turtle.html?highlight=turtle#turtle.backward)<br />\n",
    "[right](https://docs.python.org/3.3/library/turtle.html?highlight=turtle#turtle.right)<br />\n",
    "[left](https://docs.python.org/3.3/library/turtle.html?highlight=turtle#turtle.left)<br />\n",
    "[goto](https://docs.python.org/3.3/library/turtle.html?highlight=turtle#turtle.goto)<br />\n",
    "[setx](https://docs.python.org/3.3/library/turtle.html?highlight=turtle#turtle.setx)<br />\n",
    "[sety](https://docs.python.org/3.3/library/turtle.html?highlight=turtle#turtle.sety)<br />\n",
    "[speed](https://docs.python.org/3.3/library/turtle.html?highlight=turtle#turtle.speed)<br />\n",
    "\n",
    "Weitere schwerere Beispiele findest du [hier](https://michael0x2a.com/blog/turtle-examples)."
   ]
  },
  {
   "cell_type": "code",
   "execution_count": 1,
   "id": "ab2140dc",
   "metadata": {},
   "outputs": [],
   "source": [
    "import turtle as cat\n",
    "cat.register_shape('scratchcat.gif')\n",
    "cat.shape('scratchcat.gif')\n",
    "cat.speed('slowest')"
   ]
  },
  {
   "cell_type": "markdown",
   "id": "89368734",
   "metadata": {},
   "source": [
    "Löse Aufgabe 1 und passe den Code an:"
   ]
  },
  {
   "cell_type": "code",
   "execution_count": 2,
   "id": "03a8466c",
   "metadata": {},
   "outputs": [],
   "source": [
    "cat.forward(50)\n",
    "cat.right(30)\n",
    "\n",
    "cat.forward(50)\n",
    "cat.right(90)\n",
    "\n",
    "cat.forward(50)\n",
    "cat.right(90)\n",
    "\n",
    "cat.forward(50)\n",
    "cat.right(90)\n"
   ]
  },
  {
   "cell_type": "code",
   "execution_count": null,
   "id": "9e22f62c",
   "metadata": {},
   "outputs": [],
   "source": []
  },
  {
   "cell_type": "code",
   "execution_count": null,
   "id": "d02f6ccc",
   "metadata": {},
   "outputs": [],
   "source": []
  }
 ],
 "metadata": {
  "kernelspec": {
   "display_name": "Python 3 (ipykernel)",
   "language": "python",
   "name": "python3"
  },
  "language_info": {
   "codemirror_mode": {
    "name": "ipython",
    "version": 3
   },
   "file_extension": ".py",
   "mimetype": "text/x-python",
   "name": "python",
   "nbconvert_exporter": "python",
   "pygments_lexer": "ipython3",
   "version": "3.8.13"
  }
 },
 "nbformat": 4,
 "nbformat_minor": 5
}
