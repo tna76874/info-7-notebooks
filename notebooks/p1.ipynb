{
 "cells": [
  {
   "cell_type": "markdown",
   "id": "4e195dd4-ee0d-41d6-b73d-7cef7c34098e",
   "metadata": {},
   "source": [
    "Mit dem Python Modul \"Turtle\" kannst du eine Schildkröte bewegen. Hier findest du ein paar Befehle dazu:\n",
    "\n",
    "[forward](https://docs.python.org/3.3/library/turtle.html?highlight=turtle#turtle.forward)<br />\n",
    "[backward](https://docs.python.org/3.3/library/turtle.html?highlight=turtle#turtle.backward)<br />\n",
    "[right](https://docs.python.org/3.3/library/turtle.html?highlight=turtle#turtle.right)<br />\n",
    "[left](https://docs.python.org/3.3/library/turtle.html?highlight=turtle#turtle.left)<br />\n",
    "[goto](https://docs.python.org/3.3/library/turtle.html?highlight=turtle#turtle.goto)<br />\n",
    "[setx](https://docs.python.org/3.3/library/turtle.html?highlight=turtle#turtle.setx)<br />\n",
    "[sety](https://docs.python.org/3.3/library/turtle.html?highlight=turtle#turtle.sety)<br />\n",
    "[speed](https://docs.python.org/3.3/library/turtle.html?highlight=turtle#turtle.speed)<br />"
   ]
  },
  {
   "cell_type": "code",
   "execution_count": 6,
   "id": "c5aebda7-481f-4fa9-983a-ddf9e8c3d992",
   "metadata": {},
   "outputs": [
    {
     "data": {
      "application/vnd.jupyter.widget-view+json": {
       "model_id": "1acce259275c4888bad27f83bbf9b3af",
       "version_major": 2,
       "version_minor": 0
      },
      "text/plain": [
       "Canvas(height=250, width=500)"
      ]
     },
     "metadata": {},
     "output_type": "display_data"
    }
   ],
   "source": [
    "# Hier werden die Module importiert\n",
    "import ipyturtle3 as turtle\n",
    "from ipyturtle3 import hold_canvas\n",
    "import time\n",
    "\n",
    "# Hier legen wir fest wie der Hintergrund aussieht\n",
    "myCanvas=turtle.Canvas(width=500,height=250)\n",
    "display(myCanvas)\n",
    "myTS=turtle.TurtleScreen(myCanvas)\n",
    "myTS.clear()\n",
    "myTS.bgcolor(\"lightgreen\")\n",
    "\n",
    "# Schildi die Schildkröte wird erschaffen\n",
    "schildi=turtle.Turtle(myTS)\n",
    "schildi.shape(\"turtle\")\n",
    "\n",
    "# Schildi läuft los\n",
    "myTS.delay(200)\n",
    "\n",
    "schildi.speed(100)\n",
    "\n",
    "schildi.forward(50)\n",
    "schildi.left(90)\n",
    "schildi.forward(50)\n",
    "schildi.left(90)\n",
    "schildi.forward(50)\n",
    "schildi.left(90)\n",
    "schildi.forward(50)\n",
    "time.sleep(3)\n",
    "schildi.setx(100)\n"
   ]
  }
 ],
 "metadata": {
  "kernelspec": {
   "display_name": "Python 3 (ipykernel)",
   "language": "python",
   "name": "python3"
  },
  "language_info": {
   "codemirror_mode": {
    "name": "ipython",
    "version": 3
   },
   "file_extension": ".py",
   "mimetype": "text/x-python",
   "name": "python",
   "nbconvert_exporter": "python",
   "pygments_lexer": "ipython3",
   "version": "3.8.13"
  }
 },
 "nbformat": 4,
 "nbformat_minor": 5
}
