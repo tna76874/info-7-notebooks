{
 "cells": [
  {
   "cell_type": "code",
   "execution_count": 2,
   "id": "e3cc68ec-a686-405e-a1e9-7814d415f346",
   "metadata": {},
   "outputs": [],
   "source": [
    "from modules.modules import *"
   ]
  },
  {
   "cell_type": "markdown",
   "id": "9eaa4c4a",
   "metadata": {},
   "source": [
    "Mit dem Python Modul \"Turtle\" kannst du ebenfalls einen Gegenstand bewegen. Hier findest du ein paar Befehle dazu:\n",
    "\n",
    "[forward](https://docs.python.org/3.3/library/turtle.html?highlight=turtle#turtle.forward)<br />\n",
    "[backward](https://docs.python.org/3.3/library/turtle.html?highlight=turtle#turtle.backward)<br />\n",
    "[right](https://docs.python.org/3.3/library/turtle.html?highlight=turtle#turtle.right)<br />\n",
    "[left](https://docs.python.org/3.3/library/turtle.html?highlight=turtle#turtle.left)<br />\n",
    "[goto](https://docs.python.org/3.3/library/turtle.html?highlight=turtle#turtle.goto)<br />\n",
    "[setx](https://docs.python.org/3.3/library/turtle.html?highlight=turtle#turtle.setx)<br />\n",
    "[sety](https://docs.python.org/3.3/library/turtle.html?highlight=turtle#turtle.sety)<br />\n",
    "\n",
    "Weitere schwerere Beispiele findest du [hier](https://michael0x2a.com/blog/turtle-examples)."
   ]
  },
  {
   "cell_type": "markdown",
   "id": "89368734",
   "metadata": {},
   "source": [
    "Löse Aufgabe 1 und passe den Code an:"
   ]
  },
  {
   "cell_type": "code",
   "execution_count": 3,
   "id": "03a8466c",
   "metadata": {},
   "outputs": [
    {
     "data": {
      "image/png": "[encoded data removed]",
      "text/plain": [
       "<IPython.core.display.Image object>"
      ]
     },
     "metadata": {},
     "output_type": "display_data"
    }
   ],
   "source": [
    "turtle.reset()\n",
    "cat = turtle.Turtle()\n",
    "turtle.register_shape('scratchcat.gif')\n",
    "cat.shape('scratchcat.gif')\n",
    "\n",
    "cat.forward(50)\n",
    "cat.right(30)\n",
    "\n",
    "cat.forward(50)\n",
    "cat.right(90)\n",
    "\n",
    "cat.forward(50)\n",
    "cat.right(90)\n",
    "\n",
    "cat.forward(50)\n",
    "cat.right(90)\n",
    "\n",
    "\n",
    "display_cat(cat)"
   ]
  },
  {
   "cell_type": "code",
   "execution_count": null,
   "id": "c4664186-2f10-4db9-93b6-ad9c3465607b",
   "metadata": {},
   "outputs": [],
   "source": []
  }
 ],
 "metadata": {
  "kernelspec": {
   "display_name": "Python 3 (ipykernel)",
   "language": "python",
   "name": "python3"
  },
  "language_info": {
   "codemirror_mode": {
    "name": "ipython",
    "version": 3
   },
   "file_extension": ".py",
   "mimetype": "text/x-python",
   "name": "python",
   "nbconvert_exporter": "python",
   "pygments_lexer": "ipython3",
   "version": "3.8.13"
  }
 },
 "nbformat": 4,
 "nbformat_minor": 5
}
